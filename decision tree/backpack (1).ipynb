{
 "cells": [
  {
   "cell_type": "code",
   "execution_count": 1,
   "metadata": {},
   "outputs": [],
   "source": [
    "import pandas as pd\n",
    "import numpy as np\n",
    "import matplotlib.pyplot as pl"
   ]
  },
  {
   "cell_type": "code",
   "execution_count": 2,
   "metadata": {},
   "outputs": [
    {
     "name": "stdout",
     "output_type": "stream",
     "text": [
      "Requirement already satisfied: kaggle in /system/conda/miniconda3/envs/cloudspace/lib/python3.10/site-packages (1.6.17)\n",
      "Requirement already satisfied: six>=1.10 in /system/conda/miniconda3/envs/cloudspace/lib/python3.10/site-packages (from kaggle) (1.17.0)\n",
      "Requirement already satisfied: certifi>=2023.7.22 in /system/conda/miniconda3/envs/cloudspace/lib/python3.10/site-packages (from kaggle) (2025.1.31)\n",
      "Requirement already satisfied: python-dateutil in /system/conda/miniconda3/envs/cloudspace/lib/python3.10/site-packages (from kaggle) (2.9.0.post0)\n",
      "Requirement already satisfied: requests in /system/conda/miniconda3/envs/cloudspace/lib/python3.10/site-packages (from kaggle) (2.32.3)\n",
      "Requirement already satisfied: tqdm in /system/conda/miniconda3/envs/cloudspace/lib/python3.10/site-packages (from kaggle) (4.67.1)\n",
      "Requirement already satisfied: python-slugify in /system/conda/miniconda3/envs/cloudspace/lib/python3.10/site-packages (from kaggle) (8.0.4)\n",
      "Requirement already satisfied: urllib3 in /system/conda/miniconda3/envs/cloudspace/lib/python3.10/site-packages (from kaggle) (2.3.0)\n",
      "Requirement already satisfied: bleach in /system/conda/miniconda3/envs/cloudspace/lib/python3.10/site-packages (from kaggle) (6.2.0)\n",
      "Requirement already satisfied: webencodings in /system/conda/miniconda3/envs/cloudspace/lib/python3.10/site-packages (from bleach->kaggle) (0.5.1)\n",
      "Requirement already satisfied: text-unidecode>=1.3 in /system/conda/miniconda3/envs/cloudspace/lib/python3.10/site-packages (from python-slugify->kaggle) (1.3)\n",
      "Requirement already satisfied: charset-normalizer<4,>=2 in /system/conda/miniconda3/envs/cloudspace/lib/python3.10/site-packages (from requests->kaggle) (3.4.1)\n",
      "Requirement already satisfied: idna<4,>=2.5 in /system/conda/miniconda3/envs/cloudspace/lib/python3.10/site-packages (from requests->kaggle) (3.10)\n",
      "Note: you may need to restart the kernel to use updated packages.\n"
     ]
    }
   ],
   "source": [
    "pip install kaggle\n"
   ]
  },
  {
   "cell_type": "code",
   "execution_count": 3,
   "metadata": {},
   "outputs": [
    {
     "name": "stdout",
     "output_type": "stream",
     "text": [
      "LICENSE\t\tmain.py\t\t\t    xgboost_model.json\n",
      "backpack.ipynb\tplayground-series-s5e2.zip\n"
     ]
    }
   ],
   "source": [
    "!ls"
   ]
  },
  {
   "cell_type": "code",
   "execution_count": 4,
   "metadata": {},
   "outputs": [
    {
     "name": "stdout",
     "output_type": "stream",
     "text": [
      "mv: cannot stat 'kaggle.json': No such file or directory\n"
     ]
    }
   ],
   "source": [
    "!mkdir -p /teamspace/studios/this_studio/.config/kaggle\n",
    "!mv kaggle.json /teamspace/studios/this_studio/.config/kaggle/\n",
    "!chmod 600 /teamspace/studios/this_studio/.config/kaggle/kaggle.json\n"
   ]
  },
  {
   "cell_type": "code",
   "execution_count": 5,
   "metadata": {},
   "outputs": [
    {
     "name": "stdout",
     "output_type": "stream",
     "text": [
      "playground-series-s5e2.zip: Skipping, found more recently modified local copy (use --force to force download)\n"
     ]
    }
   ],
   "source": [
    "!kaggle competitions download -c playground-series-s5e2\n"
   ]
  },
  {
   "cell_type": "code",
   "execution_count": 6,
   "metadata": {},
   "outputs": [
    {
     "name": "stdout",
     "output_type": "stream",
     "text": [
      "Archive:  playground-series-s5e2.zip\n",
      "  inflating: ./kaggle/sample_submission.csv  \n",
      "  inflating: ./kaggle/test.csv       \n",
      "  inflating: ./kaggle/train.csv      \n",
      "  inflating: ./kaggle/training_extra.csv  \n"
     ]
    }
   ],
   "source": [
    "!unzip playground-series-s5e2.zip -d ./kaggle\n"
   ]
  },
  {
   "cell_type": "code",
   "execution_count": 7,
   "metadata": {},
   "outputs": [],
   "source": [
    "train_df_1= pd.read_csv(\"kaggle/train.csv\")\n",
    "train_df_1.drop('id',axis=1,inplace = True)\n",
    "train_df_2=pd.read_csv(\"kaggle/training_extra.csv\")\n",
    "train_df_2.drop('id',axis=1,inplace=True)\n",
    "test_df= pd.read_csv(\"kaggle/test.csv\")\n",
    "test_id = test_df['id']\n",
    "test_df.drop('id',axis=1,inplace = True)\n"
   ]
  },
  {
   "cell_type": "code",
   "execution_count": 8,
   "metadata": {},
   "outputs": [],
   "source": [
    "train_df = pd.concat([train_df_1, train_df_2], axis=0, ignore_index=True)"
   ]
  },
  {
   "cell_type": "code",
   "execution_count": 9,
   "metadata": {},
   "outputs": [
    {
     "data": {
      "text/plain": [
       "(3994318, 10)"
      ]
     },
     "execution_count": 9,
     "metadata": {},
     "output_type": "execute_result"
    }
   ],
   "source": [
    "train_df.shape"
   ]
  },
  {
   "cell_type": "code",
   "execution_count": 10,
   "metadata": {},
   "outputs": [
    {
     "name": "stdout",
     "output_type": "stream",
     "text": [
      "<class 'pandas.core.frame.DataFrame'>\n",
      "RangeIndex: 3994318 entries, 0 to 3994317\n",
      "Data columns (total 10 columns):\n",
      " #   Column                Dtype  \n",
      "---  ------                -----  \n",
      " 0   Brand                 object \n",
      " 1   Material              object \n",
      " 2   Size                  object \n",
      " 3   Compartments          float64\n",
      " 4   Laptop Compartment    object \n",
      " 5   Waterproof            object \n",
      " 6   Style                 object \n",
      " 7   Color                 object \n",
      " 8   Weight Capacity (kg)  float64\n",
      " 9   Price                 float64\n",
      "dtypes: float64(3), object(7)\n",
      "memory usage: 304.7+ MB\n"
     ]
    }
   ],
   "source": [
    "train_df.info()"
   ]
  },
  {
   "cell_type": "code",
   "execution_count": 11,
   "metadata": {},
   "outputs": [
    {
     "data": {
      "text/plain": [
       "Brand                   126758\n",
       "Material                110962\n",
       "Size                     87785\n",
       "Compartments                 0\n",
       "Laptop Compartment       98533\n",
       "Waterproof               94324\n",
       "Style                   104180\n",
       "Color                   133617\n",
       "Weight Capacity (kg)      1808\n",
       "Price                        0\n",
       "dtype: int64"
      ]
     },
     "execution_count": 11,
     "metadata": {},
     "output_type": "execute_result"
    }
   ],
   "source": [
    "train_df.isnull().sum()"
   ]
  },
  {
   "cell_type": "code",
   "execution_count": 12,
   "metadata": {},
   "outputs": [],
   "source": [
    "for col in train_df.columns:\n",
    "    if col == \"Price\": \n",
    "        continue\n",
    "    if train_df[col].dtype == 'object':\n",
    "        train_df[col].fillna(\"Unknown\", inplace=True)\n",
    "        test_df[col].fillna(\"Unknown\", inplace=True)\n",
    "    else:\n",
    "        train_df[col].fillna(train_df[col].median(), inplace=True)\n",
    "        if col in test_df.columns: \n",
    "            test_df[col].fillna(test_df[col].median(), inplace=True)"
   ]
  },
  {
   "cell_type": "code",
   "execution_count": 13,
   "metadata": {},
   "outputs": [
    {
     "data": {
      "text/plain": [
       "Brand                   0\n",
       "Material                0\n",
       "Size                    0\n",
       "Compartments            0\n",
       "Laptop Compartment      0\n",
       "Waterproof              0\n",
       "Style                   0\n",
       "Color                   0\n",
       "Weight Capacity (kg)    0\n",
       "Price                   0\n",
       "dtype: int64"
      ]
     },
     "execution_count": 13,
     "metadata": {},
     "output_type": "execute_result"
    }
   ],
   "source": [
    "train_df.isnull().sum()"
   ]
  },
  {
   "cell_type": "code",
   "execution_count": 14,
   "metadata": {},
   "outputs": [],
   "source": [
    "from sklearn.preprocessing import LabelEncoder\n",
    "encoder = LabelEncoder()\n",
    "categories = ['Brand', 'Material', 'Size', 'Laptop Compartment', 'Waterproof', 'Style', 'Color','Weight Capacity (kg)']\n",
    "\n",
    "for col in categories:\n",
    "    train_df[col] = encoder.fit_transform(train_df[col])\n",
    "    test_df[col] = encoder.fit_transform(test_df[col])"
   ]
  },
  {
   "cell_type": "code",
   "execution_count": 15,
   "metadata": {},
   "outputs": [
    {
     "data": {
      "text/html": [
       "<div>\n",
       "<style scoped>\n",
       "    .dataframe tbody tr th:only-of-type {\n",
       "        vertical-align: middle;\n",
       "    }\n",
       "\n",
       "    .dataframe tbody tr th {\n",
       "        vertical-align: top;\n",
       "    }\n",
       "\n",
       "    .dataframe thead th {\n",
       "        text-align: right;\n",
       "    }\n",
       "</style>\n",
       "<table border=\"1\" class=\"dataframe\">\n",
       "  <thead>\n",
       "    <tr style=\"text-align: right;\">\n",
       "      <th></th>\n",
       "      <th>Brand</th>\n",
       "      <th>Material</th>\n",
       "      <th>Size</th>\n",
       "      <th>Compartments</th>\n",
       "      <th>Laptop Compartment</th>\n",
       "      <th>Waterproof</th>\n",
       "      <th>Style</th>\n",
       "      <th>Color</th>\n",
       "      <th>Weight Capacity (kg)</th>\n",
       "      <th>Price</th>\n",
       "    </tr>\n",
       "  </thead>\n",
       "  <tbody>\n",
       "    <tr>\n",
       "      <th>0</th>\n",
       "      <td>1</td>\n",
       "      <td>1</td>\n",
       "      <td>1</td>\n",
       "      <td>7.0</td>\n",
       "      <td>2</td>\n",
       "      <td>0</td>\n",
       "      <td>2</td>\n",
       "      <td>0</td>\n",
       "      <td>422864</td>\n",
       "      <td>112.15875</td>\n",
       "    </tr>\n",
       "    <tr>\n",
       "      <th>1</th>\n",
       "      <td>1</td>\n",
       "      <td>0</td>\n",
       "      <td>2</td>\n",
       "      <td>10.0</td>\n",
       "      <td>2</td>\n",
       "      <td>2</td>\n",
       "      <td>1</td>\n",
       "      <td>3</td>\n",
       "      <td>1695046</td>\n",
       "      <td>68.88056</td>\n",
       "    </tr>\n",
       "    <tr>\n",
       "      <th>2</th>\n",
       "      <td>4</td>\n",
       "      <td>1</td>\n",
       "      <td>2</td>\n",
       "      <td>2.0</td>\n",
       "      <td>2</td>\n",
       "      <td>0</td>\n",
       "      <td>1</td>\n",
       "      <td>5</td>\n",
       "      <td>837448</td>\n",
       "      <td>39.17320</td>\n",
       "    </tr>\n",
       "    <tr>\n",
       "      <th>3</th>\n",
       "      <td>2</td>\n",
       "      <td>2</td>\n",
       "      <td>2</td>\n",
       "      <td>8.0</td>\n",
       "      <td>2</td>\n",
       "      <td>0</td>\n",
       "      <td>1</td>\n",
       "      <td>3</td>\n",
       "      <td>548130</td>\n",
       "      <td>80.60793</td>\n",
       "    </tr>\n",
       "    <tr>\n",
       "      <th>4</th>\n",
       "      <td>0</td>\n",
       "      <td>0</td>\n",
       "      <td>1</td>\n",
       "      <td>1.0</td>\n",
       "      <td>2</td>\n",
       "      <td>2</td>\n",
       "      <td>1</td>\n",
       "      <td>3</td>\n",
       "      <td>926275</td>\n",
       "      <td>86.02312</td>\n",
       "    </tr>\n",
       "  </tbody>\n",
       "</table>\n",
       "</div>"
      ],
      "text/plain": [
       "   Brand  Material  Size  Compartments  Laptop Compartment  Waterproof  Style  \\\n",
       "0      1         1     1           7.0                   2           0      2   \n",
       "1      1         0     2          10.0                   2           2      1   \n",
       "2      4         1     2           2.0                   2           0      1   \n",
       "3      2         2     2           8.0                   2           0      1   \n",
       "4      0         0     1           1.0                   2           2      1   \n",
       "\n",
       "   Color  Weight Capacity (kg)      Price  \n",
       "0      0                422864  112.15875  \n",
       "1      3               1695046   68.88056  \n",
       "2      5                837448   39.17320  \n",
       "3      3                548130   80.60793  \n",
       "4      3                926275   86.02312  "
      ]
     },
     "execution_count": 15,
     "metadata": {},
     "output_type": "execute_result"
    }
   ],
   "source": [
    "train_df.head()"
   ]
  },
  {
   "cell_type": "code",
   "execution_count": 16,
   "metadata": {},
   "outputs": [
    {
     "data": {
      "text/html": [
       "<div>\n",
       "<style scoped>\n",
       "    .dataframe tbody tr th:only-of-type {\n",
       "        vertical-align: middle;\n",
       "    }\n",
       "\n",
       "    .dataframe tbody tr th {\n",
       "        vertical-align: top;\n",
       "    }\n",
       "\n",
       "    .dataframe thead th {\n",
       "        text-align: right;\n",
       "    }\n",
       "</style>\n",
       "<table border=\"1\" class=\"dataframe\">\n",
       "  <thead>\n",
       "    <tr style=\"text-align: right;\">\n",
       "      <th></th>\n",
       "      <th>Brand</th>\n",
       "      <th>Material</th>\n",
       "      <th>Size</th>\n",
       "      <th>Compartments</th>\n",
       "      <th>Laptop Compartment</th>\n",
       "      <th>Waterproof</th>\n",
       "      <th>Style</th>\n",
       "      <th>Color</th>\n",
       "      <th>Weight Capacity (kg)</th>\n",
       "    </tr>\n",
       "  </thead>\n",
       "  <tbody>\n",
       "    <tr>\n",
       "      <th>0</th>\n",
       "      <td>3</td>\n",
       "      <td>1</td>\n",
       "      <td>2</td>\n",
       "      <td>2.0</td>\n",
       "      <td>0</td>\n",
       "      <td>0</td>\n",
       "      <td>2</td>\n",
       "      <td>3</td>\n",
       "      <td>78098</td>\n",
       "    </tr>\n",
       "    <tr>\n",
       "      <th>1</th>\n",
       "      <td>2</td>\n",
       "      <td>0</td>\n",
       "      <td>1</td>\n",
       "      <td>7.0</td>\n",
       "      <td>0</td>\n",
       "      <td>2</td>\n",
       "      <td>0</td>\n",
       "      <td>3</td>\n",
       "      <td>39779</td>\n",
       "    </tr>\n",
       "    <tr>\n",
       "      <th>2</th>\n",
       "      <td>0</td>\n",
       "      <td>0</td>\n",
       "      <td>0</td>\n",
       "      <td>9.0</td>\n",
       "      <td>0</td>\n",
       "      <td>2</td>\n",
       "      <td>1</td>\n",
       "      <td>1</td>\n",
       "      <td>29525</td>\n",
       "    </tr>\n",
       "    <tr>\n",
       "      <th>3</th>\n",
       "      <td>0</td>\n",
       "      <td>2</td>\n",
       "      <td>0</td>\n",
       "      <td>1.0</td>\n",
       "      <td>2</td>\n",
       "      <td>0</td>\n",
       "      <td>1</td>\n",
       "      <td>3</td>\n",
       "      <td>66395</td>\n",
       "    </tr>\n",
       "    <tr>\n",
       "      <th>4</th>\n",
       "      <td>5</td>\n",
       "      <td>2</td>\n",
       "      <td>0</td>\n",
       "      <td>2.0</td>\n",
       "      <td>2</td>\n",
       "      <td>2</td>\n",
       "      <td>2</td>\n",
       "      <td>0</td>\n",
       "      <td>20223</td>\n",
       "    </tr>\n",
       "  </tbody>\n",
       "</table>\n",
       "</div>"
      ],
      "text/plain": [
       "   Brand  Material  Size  Compartments  Laptop Compartment  Waterproof  Style  \\\n",
       "0      3         1     2           2.0                   0           0      2   \n",
       "1      2         0     1           7.0                   0           2      0   \n",
       "2      0         0     0           9.0                   0           2      1   \n",
       "3      0         2     0           1.0                   2           0      1   \n",
       "4      5         2     0           2.0                   2           2      2   \n",
       "\n",
       "   Color  Weight Capacity (kg)  \n",
       "0      3                 78098  \n",
       "1      3                 39779  \n",
       "2      1                 29525  \n",
       "3      3                 66395  \n",
       "4      0                 20223  "
      ]
     },
     "execution_count": 16,
     "metadata": {},
     "output_type": "execute_result"
    }
   ],
   "source": [
    "test_df.head()"
   ]
  },
  {
   "cell_type": "code",
   "execution_count": 17,
   "metadata": {},
   "outputs": [
    {
     "name": "stdout",
     "output_type": "stream",
     "text": [
      "<class 'pandas.core.frame.DataFrame'>\n",
      "RangeIndex: 3994318 entries, 0 to 3994317\n",
      "Data columns (total 10 columns):\n",
      " #   Column                Dtype  \n",
      "---  ------                -----  \n",
      " 0   Brand                 int64  \n",
      " 1   Material              int64  \n",
      " 2   Size                  int64  \n",
      " 3   Compartments          float64\n",
      " 4   Laptop Compartment    int64  \n",
      " 5   Waterproof            int64  \n",
      " 6   Style                 int64  \n",
      " 7   Color                 int64  \n",
      " 8   Weight Capacity (kg)  int64  \n",
      " 9   Price                 float64\n",
      "dtypes: float64(2), int64(8)\n",
      "memory usage: 304.7 MB\n"
     ]
    }
   ],
   "source": [
    "train_df.info()"
   ]
  },
  {
   "cell_type": "code",
   "execution_count": 18,
   "metadata": {},
   "outputs": [],
   "source": [
    "x = train_df.drop('Price', axis=1)\n",
    "y = train_df['Price']"
   ]
  },
  {
   "cell_type": "code",
   "execution_count": 19,
   "metadata": {},
   "outputs": [],
   "source": [
    "from sklearn.model_selection import train_test_split \n",
    "x_train,x_test,y_train,y_test = train_test_split(x,y,test_size=0.2,random_state=0)"
   ]
  },
  {
   "cell_type": "code",
   "execution_count": 21,
   "metadata": {},
   "outputs": [
    {
     "name": "stdout",
     "output_type": "stream",
     "text": [
      "Collecting seaborn\n",
      "  Downloading seaborn-0.13.2-py3-none-any.whl.metadata (5.4 kB)\n",
      "Requirement already satisfied: numpy!=1.24.0,>=1.20 in /system/conda/miniconda3/envs/cloudspace/lib/python3.10/site-packages (from seaborn) (1.26.4)\n",
      "Requirement already satisfied: pandas>=1.2 in /system/conda/miniconda3/envs/cloudspace/lib/python3.10/site-packages (from seaborn) (2.1.4)\n",
      "Requirement already satisfied: matplotlib!=3.6.1,>=3.4 in /system/conda/miniconda3/envs/cloudspace/lib/python3.10/site-packages (from seaborn) (3.8.2)\n",
      "Requirement already satisfied: contourpy>=1.0.1 in /system/conda/miniconda3/envs/cloudspace/lib/python3.10/site-packages (from matplotlib!=3.6.1,>=3.4->seaborn) (1.3.1)\n",
      "Requirement already satisfied: cycler>=0.10 in /system/conda/miniconda3/envs/cloudspace/lib/python3.10/site-packages (from matplotlib!=3.6.1,>=3.4->seaborn) (0.12.1)\n",
      "Requirement already satisfied: fonttools>=4.22.0 in /system/conda/miniconda3/envs/cloudspace/lib/python3.10/site-packages (from matplotlib!=3.6.1,>=3.4->seaborn) (4.55.8)\n",
      "Requirement already satisfied: kiwisolver>=1.3.1 in /system/conda/miniconda3/envs/cloudspace/lib/python3.10/site-packages (from matplotlib!=3.6.1,>=3.4->seaborn) (1.4.8)\n",
      "Requirement already satisfied: packaging>=20.0 in /system/conda/miniconda3/envs/cloudspace/lib/python3.10/site-packages (from matplotlib!=3.6.1,>=3.4->seaborn) (23.2)\n",
      "Requirement already satisfied: pillow>=8 in /system/conda/miniconda3/envs/cloudspace/lib/python3.10/site-packages (from matplotlib!=3.6.1,>=3.4->seaborn) (10.4.0)\n",
      "Requirement already satisfied: pyparsing>=2.3.1 in /system/conda/miniconda3/envs/cloudspace/lib/python3.10/site-packages (from matplotlib!=3.6.1,>=3.4->seaborn) (3.2.1)\n",
      "Requirement already satisfied: python-dateutil>=2.7 in /system/conda/miniconda3/envs/cloudspace/lib/python3.10/site-packages (from matplotlib!=3.6.1,>=3.4->seaborn) (2.9.0.post0)\n",
      "Requirement already satisfied: pytz>=2020.1 in /system/conda/miniconda3/envs/cloudspace/lib/python3.10/site-packages (from pandas>=1.2->seaborn) (2025.1)\n",
      "Requirement already satisfied: tzdata>=2022.1 in /system/conda/miniconda3/envs/cloudspace/lib/python3.10/site-packages (from pandas>=1.2->seaborn) (2025.1)\n",
      "Requirement already satisfied: six>=1.5 in /system/conda/miniconda3/envs/cloudspace/lib/python3.10/site-packages (from python-dateutil>=2.7->matplotlib!=3.6.1,>=3.4->seaborn) (1.17.0)\n",
      "Downloading seaborn-0.13.2-py3-none-any.whl (294 kB)\n",
      "Installing collected packages: seaborn\n",
      "Successfully installed seaborn-0.13.2\n"
     ]
    }
   ],
   "source": [
    "!pip install seaborn"
   ]
  },
  {
   "cell_type": "code",
   "execution_count": 22,
   "metadata": {},
   "outputs": [],
   "source": [
    "\n",
    "# Import additional required libraries\n",
    "import numpy as np\n",
    "import seaborn as sns\n",
    "import matplotlib.pyplot as plt\n",
    "from sklearn.tree import DecisionTreeRegressor, plot_tree\n",
    "from sklearn.metrics import mean_absolute_error, r2_score\n",
    "from sklearn.model_selection import cross_val_score\n",
    "import warnings\n",
    "warnings.filterwarnings('ignore')\n",
    "\n",
    "model = DecisionTreeRegressor(\n",
    "    random_state=42,\n",
    "    max_depth=10,  \n",
    "    min_samples_split=5,\n",
    "    min_samples_leaf=5\n",
    ")"
   ]
  },
  {
   "cell_type": "code",
   "execution_count": 23,
   "metadata": {},
   "outputs": [],
   "source": [
    "# Train the model\n",
    "model.fit(x_train, y_train)\n",
    "\n",
    "# Make predictions\n",
    "y_pred = model.predict(x_test)\n",
    "train_pred = model.predict(x_train)\n",
    "\n",
    "# Calculate performance metrics\n",
    "mae = mean_absolute_error(y_test, y_pred)\n",
    "train_mae = mean_absolute_error(y_train, train_pred)\n",
    "r2_train = r2_score(y_train, train_pred)\n",
    "r2_test = r2_score(y_test, y_pred)\n",
    "\n",
    "# Perform cross-validation\n",
    "cv_scores = cross_val_score(model, x_train, y_train, cv=5, scoring='neg_mean_absolute_error')\n",
    "cv_mae = -cv_scores.mean()\n"
   ]
  },
  {
   "cell_type": "code",
   "execution_count": 28,
   "metadata": {},
   "outputs": [
    {
     "name": "stdout",
     "output_type": "stream",
     "text": [
      "\n",
      "Model Performance Metrics:\n",
      "Training MAE: 33.61\n",
      "Validation MAE: 33.64\n",
      "Cross-validation MAE: 33.65\n",
      "Training R² Score: 0.0036\n",
      "Testing R² Score: 0.0012\n"
     ]
    },
    {
     "data": {
      "image/png": "[encoded data removed]",
      "text/plain": [
       "<Figure size 2000x1200 with 6 Axes>"
      ]
     },
     "metadata": {},
     "output_type": "display_data"
    }
   ],
   "source": [
    "\n",
    "print(\"\\nModel Performance Metrics:\")\n",
    "print(f\"Training MAE: {train_mae:.2f}\")\n",
    "print(f\"Validation MAE: {mae:.2f}\")\n",
    "print(f\"Cross-validation MAE: {cv_mae:.2f}\")\n",
    "print(f\"Training R² Score: {r2_train:.4f}\")\n",
    "print(f\"Testing R² Score: {r2_test:.4f}\")\n",
    "\n",
    "# Create visualizations\n",
    "plt.style.use('default')\n",
    "fig, axes = plt.subplots(2, 3, figsize=(20, 12))"
   ]
  },
  {
   "cell_type": "code",
   "execution_count": 29,
   "metadata": {},
   "outputs": [
    {
     "data": {
      "text/plain": [
       "Text(0.5, 1.0, 'Feature Correlation Matrix')"
      ]
     },
     "execution_count": 29,
     "metadata": {},
     "output_type": "execute_result"
    }
   ],
   "source": [
    "\n",
    "# 1. Feature Correlation Matrix\n",
    "if isinstance(x_train, pd.DataFrame):\n",
    "    feature_names = x_train.columns\n",
    "else:\n",
    "    feature_names = [f'Feature_{i}' for i in range(x_train.shape[1])]\n",
    "    \n",
    "corr_matrix = pd.DataFrame(x_train, columns=feature_names).corr()\n",
    "sns.heatmap(corr_matrix, annot=True, cmap='coolwarm', ax=axes[0,0])\n",
    "axes[0,0].set_title('Feature Correlation Matrix')"
   ]
  },
  {
   "cell_type": "code",
   "execution_count": 30,
   "metadata": {},
   "outputs": [
    {
     "data": {
      "text/plain": [
       "Text(0.5, 1.0, 'Actual vs Predicted (Training)')"
      ]
     },
     "execution_count": 30,
     "metadata": {},
     "output_type": "execute_result"
    }
   ],
   "source": [
    "# 2. Actual vs Predicted (Training)\n",
    "axes[0,1].scatter(y_train, train_pred, alpha=0.5)\n",
    "axes[0,1].plot([y_train.min(), y_train.max()], [y_train.min(), y_train.max()], 'r--', lw=2)\n",
    "axes[0,1].set_xlabel('Actual Values')\n",
    "axes[0,1].set_ylabel('Predicted Values')\n",
    "axes[0,1].set_title('Actual vs Predicted (Training)')\n"
   ]
  },
  {
   "cell_type": "code",
   "execution_count": 31,
   "metadata": {},
   "outputs": [
    {
     "data": {
      "text/plain": [
       "Text(0.5, 1.0, 'Actual vs Predicted (Testing)')"
      ]
     },
     "execution_count": 31,
     "metadata": {},
     "output_type": "execute_result"
    }
   ],
   "source": [
    "\n",
    "# 3. Actual vs Predicted (Testing)\n",
    "axes[0,2].scatter(y_test, y_pred, alpha=0.5)\n",
    "axes[0,2].plot([y_test.min(), y_test.max()], [y_test.min(), y_test.max()], 'r--', lw=2)\n",
    "axes[0,2].set_xlabel('Actual Values')\n",
    "axes[0,2].set_ylabel('Predicted Values')\n",
    "axes[0,2].set_title('Actual vs Predicted (Testing)')\n"
   ]
  },
  {
   "cell_type": "code",
   "execution_count": 32,
   "metadata": {},
   "outputs": [
    {
     "data": {
      "text/plain": [
       "Text(0.5, 1.0, 'Residual Plot (Training)')"
      ]
     },
     "execution_count": 32,
     "metadata": {},
     "output_type": "execute_result"
    }
   ],
   "source": [
    "\n",
    "# 4. Residual Plot (Training)\n",
    "residuals_train = y_train - train_pred\n",
    "axes[1,0].scatter(train_pred, residuals_train, alpha=0.5)\n",
    "axes[1,0].axhline(y=0, color='r', linestyle='--')\n",
    "axes[1,0].set_xlabel('Predicted Values')\n",
    "axes[1,0].set_ylabel('Residuals')\n",
    "axes[1,0].set_title('Residual Plot (Training)')"
   ]
  },
  {
   "cell_type": "code",
   "execution_count": 33,
   "metadata": {},
   "outputs": [
    {
     "data": {
      "text/plain": [
       "Text(0.5, 1.0, 'Residual Plot (Testing)')"
      ]
     },
     "execution_count": 33,
     "metadata": {},
     "output_type": "execute_result"
    }
   ],
   "source": [
    "\n",
    "# 5. Residual Plot (Testing)\n",
    "residuals_test = y_test - y_pred\n",
    "axes[1,1].scatter(y_pred, residuals_test, alpha=0.5)\n",
    "axes[1,1].axhline(y=0, color='r', linestyle='--')\n",
    "axes[1,1].set_xlabel('Predicted Values')\n",
    "axes[1,1].set_ylabel('Residuals')\n",
    "axes[1,1].set_title('Residual Plot (Testing)')\n",
    "\n"
   ]
  },
  {
   "cell_type": "code",
   "execution_count": 34,
   "metadata": {},
   "outputs": [
    {
     "data": {
      "text/plain": [
       "<Figure size 640x480 with 0 Axes>"
      ]
     },
     "metadata": {},
     "output_type": "display_data"
    }
   ],
   "source": [
    "# 6. Feature Importance\n",
    "importance = pd.DataFrame({\n",
    "    'feature': feature_names,\n",
    "    'importance': model.feature_importances_\n",
    "}).sort_values('importance', ascending=True)\n",
    "sns.barplot(data=importance, y='feature', x='importance', ax=axes[1,2])\n",
    "axes[1,2].set_title('Feature Importance')\n",
    "\n",
    "plt.tight_layout()\n",
    "plt.show()\n"
   ]
  },
  {
   "cell_type": "code",
   "execution_count": 35,
   "metadata": {},
   "outputs": [
    {
     "data": {
      "image/png": "[encoded data removed]",
      "text/plain": [
       "<Figure size 2000x1000 with 1 Axes>"
      ]
     },
     "metadata": {},
     "output_type": "display_data"
    }
   ],
   "source": [
    "# Visualize decision tree structure\n",
    "plt.figure(figsize=(20,10))\n",
    "plot_tree(model, \n",
    "         feature_names=feature_names,\n",
    "         filled=True,\n",
    "         rounded=True,\n",
    "         max_depth=3)  # Limiting depth for visualization\n",
    "plt.title(\"Decision Tree Visualization (Limited to Depth 3)\")\n",
    "plt.show()\n"
   ]
  },
  {
   "cell_type": "code",
   "execution_count": 36,
   "metadata": {},
   "outputs": [],
   "source": [
    "# Make predictions on the test set\n",
    "test_predictions = model.predict(test_df)"
   ]
  },
  {
   "cell_type": "code",
   "execution_count": 37,
   "metadata": {},
   "outputs": [
    {
     "name": "stdout",
     "output_type": "stream",
     "text": [
      "\n",
      "Submission file saved as 'submission.csv'.\n"
     ]
    }
   ],
   "source": [
    "# Create submission file\n",
    "submission = pd.DataFrame({'id': test_id, 'Price': test_predictions})\n",
    "submission.to_csv('submission.csv', index=False)\n",
    "print(\"\\nSubmission file saved as 'submission.csv'.\")"
   ]
  },
  {
   "cell_type": "code",
   "execution_count": 38,
   "metadata": {},
   "outputs": [
    {
     "name": "stdout",
     "output_type": "stream",
     "text": [
      "\n",
      "Model and results saved in directory: model_results_20250217_180243\n",
      "\n",
      "Saved files:\n",
      "1. Model: model_results_20250217_180243/decision_tree_model.joblib\n",
      "2. Metrics: model_results_20250217_180243/model_metrics.json\n",
      "3. Visualizations:\n",
      "   - correlation_matrix.png\n",
      "   - model_performance_plots.png\n",
      "   - feature_importance.png\n",
      "4. Submission file: submission.csv\n"
     ]
    },
    {
     "data": {
      "text/plain": [
       "'\\n# Load the model and metrics\\nloaded_model, loaded_metrics = load_saved_model(model_dir)\\n\\n# Make new predictions\\nnew_predictions = loaded_model.predict(new_data)\\n'"
      ]
     },
     "execution_count": 38,
     "metadata": {},
     "output_type": "execute_result"
    }
   ],
   "source": [
    "# Add these imports at the top if not already present\n",
    "import joblib\n",
    "import os\n",
    "from datetime import datetime\n",
    "import json\n",
    "\n",
    "# Create a directory to store the model and results\n",
    "timestamp = datetime.now().strftime(\"%Y%m%d_%H%M%S\")\n",
    "model_dir = f'model_results_{timestamp}'\n",
    "os.makedirs(model_dir, exist_ok=True)\n",
    "\n",
    "# 1. Save the model\n",
    "model_path = os.path.join(model_dir, 'decision_tree_model.joblib')\n",
    "joblib.dump(model, model_path)\n",
    "\n",
    "# 2. Save model parameters and metrics\n",
    "metrics = {\n",
    "    'model_parameters': model.get_params(),\n",
    "    'performance_metrics': {\n",
    "        'training_mae': float(train_mae),\n",
    "        'validation_mae': float(mae),\n",
    "        'cross_validation_mae': float(cv_mae),\n",
    "        'training_r2': float(r2_train),\n",
    "        'testing_r2': float(r2_test)\n",
    "    },\n",
    "    'feature_importance': {\n",
    "        name: float(importance) \n",
    "        for name, importance in zip(feature_names, model.feature_importances_)\n",
    "    }\n",
    "}\n",
    "\n",
    "# Save metrics to JSON\n",
    "metrics_path = os.path.join(model_dir, 'model_metrics.json')\n",
    "with open(metrics_path, 'w') as f:\n",
    "    json.dump(metrics, f, indent=4)\n",
    "\n",
    "# 3. Save all plots\n",
    "# Correlation Matrix\n",
    "plt.figure(figsize=(10, 8))\n",
    "sns.heatmap(corr_matrix, annot=True, cmap='coolwarm')\n",
    "plt.title('Feature Correlation Matrix')\n",
    "plt.tight_layout()\n",
    "plt.savefig(os.path.join(model_dir, 'correlation_matrix.png'))\n",
    "plt.close()\n",
    "\n",
    "# Actual vs Predicted and Residuals\n",
    "fig, axes = plt.subplots(2, 2, figsize=(15, 15))\n",
    "\n",
    "# Training data plots\n",
    "axes[0,0].scatter(y_train, train_pred, alpha=0.5)\n",
    "axes[0,0].plot([y_train.min(), y_train.max()], [y_train.min(), y_train.max()], 'r--', lw=2)\n",
    "axes[0,0].set_xlabel('Actual Values')\n",
    "axes[0,0].set_ylabel('Predicted Values')\n",
    "axes[0,0].set_title('Actual vs Predicted (Training)')\n",
    "\n",
    "# Test data plots\n",
    "axes[0,1].scatter(y_test, y_pred, alpha=0.5)\n",
    "axes[0,1].plot([y_test.min(), y_test.max()], [y_test.min(), y_test.max()], 'r--', lw=2)\n",
    "axes[0,1].set_xlabel('Actual Values')\n",
    "axes[0,1].set_ylabel('Predicted Values')\n",
    "axes[0,1].set_title('Actual vs Predicted (Testing)')\n",
    "\n",
    "# Residual plots\n",
    "axes[1,0].scatter(train_pred, residuals_train, alpha=0.5)\n",
    "axes[1,0].axhline(y=0, color='r', linestyle='--')\n",
    "axes[1,0].set_xlabel('Predicted Values')\n",
    "axes[1,0].set_ylabel('Residuals')\n",
    "axes[1,0].set_title('Residual Plot (Training)')\n",
    "\n",
    "axes[1,1].scatter(y_pred, residuals_test, alpha=0.5)\n",
    "axes[1,1].axhline(y=0, color='r', linestyle='--')\n",
    "axes[1,1].set_xlabel('Predicted Values')\n",
    "axes[1,1].set_ylabel('Residuals')\n",
    "axes[1,1].set_title('Residual Plot (Testing)')\n",
    "\n",
    "plt.tight_layout()\n",
    "plt.savefig(os.path.join(model_dir, 'model_performance_plots.png'))\n",
    "plt.close()\n",
    "\n",
    "# Feature Importance plot\n",
    "plt.figure(figsize=(10, 6))\n",
    "importance_df = pd.DataFrame({\n",
    "    'feature': feature_names,\n",
    "    'importance': model.feature_importances_\n",
    "}).sort_values('importance', ascending=True)\n",
    "sns.barplot(data=importance_df, y='feature', x='importance')\n",
    "plt.title('Feature Importance')\n",
    "plt.tight_layout()\n",
    "plt.savefig(os.path.join(model_dir, 'feature_importance.png'))\n",
    "plt.close()\n",
    "\n",
    "# Save the submission file in the same directory\n",
    "submission.to_csv(os.path.join(model_dir, 'submission.csv'), index=False)\n",
    "\n",
    "print(f\"\\nModel and results saved in directory: {model_dir}\")\n",
    "print(\"\\nSaved files:\")\n",
    "print(f\"1. Model: {model_path}\")\n",
    "print(f\"2. Metrics: {metrics_path}\")\n",
    "print(\"3. Visualizations:\")\n",
    "print(\"   - correlation_matrix.png\")\n",
    "print(\"   - model_performance_plots.png\")\n",
    "print(\"   - feature_importance.png\")\n",
    "print(\"4. Submission file: submission.csv\")\n",
    "\n",
    "# Function to load the saved model and metrics (for future use)\n",
    "def load_saved_model(model_dir):\n",
    "    \"\"\"\n",
    "    Load the saved model and its metrics\n",
    "    \"\"\"\n",
    "    model = joblib.load(os.path.join(model_dir, 'decision_tree_model.joblib'))\n",
    "    with open(os.path.join(model_dir, 'model_metrics.json'), 'r') as f:\n",
    "        metrics = json.load(f)\n",
    "    return model, metrics\n",
    "\n",
    "# Example of loading (commented out)\n",
    "\"\"\"\n",
    "# Load the model and metrics\n",
    "loaded_model, loaded_metrics = load_saved_model(model_dir)\n",
    "\n",
    "# Make new predictions\n",
    "new_predictions = loaded_model.predict(new_data)\n",
    "\"\"\""
   ]
  }
 ],
 "metadata": {
  "language_info": {
   "name": "python"
  }
 },
 "nbformat": 4,
 "nbformat_minor": 2
}
